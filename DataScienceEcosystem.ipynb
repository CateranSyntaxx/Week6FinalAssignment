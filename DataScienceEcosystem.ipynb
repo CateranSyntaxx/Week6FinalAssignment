{
 "cells": [
  {
   "cell_type": "markdown",
   "id": "62a66d2e-d799-43ec-98d7-3c13e02e7953",
   "metadata": {},
   "source": [
    "# Data Science Tools and Ecosystem"
   ]
  },
  {
   "cell_type": "markdown",
   "id": "276c79c2-7702-48cc-9cfd-b3dd294f6b31",
   "metadata": {},
   "source": [
    "In this notebook, you will find Data Science Tools and Ecosystem summarized."
   ]
  },
  {
   "cell_type": "markdown",
   "id": "a70836a7-f3ef-4452-853d-d54d5a4eb110",
   "metadata": {},
   "source": [
    "**Objectives:**\n",
    "* Commonly used languages\n",
    "* Commonly used libraries\n",
    "* Data Science tools\n",
    "* Arithmetic"
   ]
  },
  {
   "cell_type": "markdown",
   "id": "15ba9055-fa3a-4405-a275-a8682fc4ba74",
   "metadata": {},
   "source": [
    "4 of the most commonly used languages by Data Scientists are:\n",
    "1. Python\n",
    "2. R\n",
    "3. SQL\n",
    "4. Julia"
   ]
  },
  {
   "cell_type": "markdown",
   "id": "742e99f7-ad5d-49d2-b798-4eb4c4cc2754",
   "metadata": {},
   "source": [
    "4 of the most commonly used libraries by Data Scientists are:\n",
    "1. NumPy\n",
    "2. Pandas\n",
    "3. Matplotlib\n",
    "4. PyTorch"
   ]
  },
  {
   "cell_type": "markdown",
   "id": "2e845dc5-2fe9-401a-a29f-7b8a691bfbb5",
   "metadata": {
    "tags": []
   },
   "source": [
    "| Data Science Tools |\n",
    "| ---------------- |\n",
    "| Apache Airflow |\n",
    "| MYSQL |\n",
    "| KubeFlow |"
   ]
  },
  {
   "cell_type": "markdown",
   "id": "e67475b1-c2df-47df-8b84-3421e0b731b1",
   "metadata": {},
   "source": [
    "### Below you can find examples of evaluating arithmetic expressions in Python"
   ]
  },
  {
   "cell_type": "code",
   "execution_count": 2,
   "id": "81339b5f-28c4-4b85-b251-518f3f9575eb",
   "metadata": {
    "tags": []
   },
   "outputs": [
    {
     "data": {
      "text/plain": [
       "17"
      ]
     },
     "execution_count": 2,
     "metadata": {},
     "output_type": "execute_result"
    }
   ],
   "source": [
    "#This is a simple arithmetic expression to mutiply then add integers\n",
    "(3*4)+5"
   ]
  },
  {
   "cell_type": "code",
   "execution_count": 7,
   "id": "080307a8-3b11-4abb-9f34-f8429ab51d48",
   "metadata": {
    "tags": []
   },
   "outputs": [
    {
     "data": {
      "text/plain": [
       "3.33"
      ]
     },
     "execution_count": 7,
     "metadata": {},
     "output_type": "execute_result"
    }
   ],
   "source": [
    "#This is a simple arithmetic expression to convert 200 minutes into hours by dividing by 60 and rounding to 2 decimal places\n",
    "round(200/60,2)"
   ]
  },
  {
   "cell_type": "markdown",
   "id": "7bb886af-ebfc-4401-9541-188d343ec298",
   "metadata": {},
   "source": [
    "## Author\n",
    "Stanley Vickery"
   ]
  },
  {
   "cell_type": "code",
   "execution_count": null,
   "id": "41909170-7444-40f4-94df-c4e3c3ec2315",
   "metadata": {},
   "outputs": [],
   "source": []
  }
 ],
 "metadata": {
  "kernelspec": {
   "display_name": "Python",
   "language": "python",
   "name": "conda-env-python-py"
  },
  "language_info": {
   "codemirror_mode": {
    "name": "ipython",
    "version": 3
   },
   "file_extension": ".py",
   "mimetype": "text/x-python",
   "name": "python",
   "nbconvert_exporter": "python",
   "pygments_lexer": "ipython3",
   "version": "3.7.12"
  }
 },
 "nbformat": 4,
 "nbformat_minor": 5
}
